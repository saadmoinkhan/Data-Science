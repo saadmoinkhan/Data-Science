{
 "cells": [
  {
   "cell_type": "markdown",
   "metadata": {},
   "source": [
    "# Profitable App to Launch based on Data Analysis"
   ]
  },
  {
   "cell_type": "markdown",
   "metadata": {},
   "source": [
    "Our aim in this project is to identify competitive mobile device profiles for both the App Store and Google Play markets. Our job is to make data-driven decisions about the kind of applications that a team of developers need to create.\n",
    "\n",
    "We are focussing on free apps, which generate revenue from in-app ads. This means that our income for any particular app depends mainly on the number of users using the application. Our mission is to evaluate data and help our developers recognize what sort of apps more consumers are likely to use. "
   ]
  },
  {
   "cell_type": "markdown",
   "metadata": {},
   "source": [
    "## Opening and Exploring Data"
   ]
  },
  {
   "cell_type": "markdown",
   "metadata": {},
   "source": [
    "There are approximately 2 million iOS apps available on the App Store, and 2.1 million Android apps on Google Play.\n",
    "\n",
    "Collecting data for over four million apps requires a significant amount of time and money, so we'll try to analyze a sample of data instead. To avoid spending resources with collecting new data ourselves, we should first try to see whether we can find any relevant existing data at no cost. Luckily, these are two data sets that seem suitable for our purpose:\n",
    "\n",
    "* A data set containing data about approximately ten thousand Android apps from Google Play. You can download the data set directly from this [link](https://dq-content.s3.amazonaws.com/350/googleplaystore.csv).\n",
    "* A data set containing data about approximately seven thousand iOS apps from the App Store. You can download the data set directly from this [link](https://dq-content.s3.amazonaws.com/350/AppleStore.csv)."
   ]
  },
  {
   "cell_type": "markdown",
   "metadata": {},
   "source": [
    "Let's start by opening the two datasets and then continue exploring the data."
   ]
  },
  {
   "cell_type": "code",
   "execution_count": 1,
   "metadata": {},
   "outputs": [],
   "source": [
    "from csv import reader\n",
    "\n",
    "#Creating a function which converts csv files to datasets of lists.\n",
    "def csv_to_list(a_file, head = True):\n",
    "    opened_file = open(a_file, encoding = 'utf-8')\n",
    "    read_file = reader(opened_file)\n",
    "    dataset = list(read_file)\n",
    "    header = dataset[0]\n",
    "    dataset = dataset[1:]\n",
    "    return dataset, header\n",
    "\n",
    "#Importing Datasets and converting them\n",
    "gplay, gplay_header = csv_to_list('googleplaystore.csv')\n",
    "appstore, appstore_header = csv_to_list('AppleStore.csv')"
   ]
  },
  {
   "cell_type": "markdown",
   "metadata": {},
   "source": [
    "To make it easier to explore the two data sets, we'll first write a function named explore_data() that we can use repeatedly to explore rows in a more readable way. We'll also add an option for our function to show the number of rows and columns for any data set."
   ]
  },
  {
   "cell_type": "code",
   "execution_count": 2,
   "metadata": {},
   "outputs": [
    {
     "name": "stdout",
     "output_type": "stream",
     "text": [
      "['App', 'Category', 'Rating', 'Reviews', 'Size', 'Installs', 'Type', 'Price', 'Content Rating', 'Genres', 'Last Updated', 'Current Ver', 'Android Ver']\n",
      "\n",
      "\n",
      "['Photo Editor & Candy Camera & Grid & ScrapBook', 'ART_AND_DESIGN', '4.1', '159', '19M', '10,000+', 'Free', '0', 'Everyone', 'Art & Design', 'January 7, 2018', '1.0.0', '4.0.3 and up']\n",
      "\n",
      "\n",
      "['Coloring book moana', 'ART_AND_DESIGN', '3.9', '967', '14M', '500,000+', 'Free', '0', 'Everyone', 'Art & Design;Pretend Play', 'January 15, 2018', '2.0.0', '4.0.3 and up']\n",
      "\n",
      "\n",
      "['U Launcher Lite – FREE Live Cool Themes, Hide Apps', 'ART_AND_DESIGN', '4.7', '87510', '8.7M', '5,000,000+', 'Free', '0', 'Everyone', 'Art & Design', 'August 1, 2018', '1.2.4', '4.0.3 and up']\n",
      "\n",
      "\n",
      "Number of rows are -  10841\n",
      "Number of columns are -  13\n"
     ]
    }
   ],
   "source": [
    "def explore_data(dataset, start, end, rows_and_column = False):\n",
    "    sliced_data = dataset[start:end]\n",
    "    for x in sliced_data:\n",
    "        print(x)\n",
    "        print('\\n')\n",
    "    if rows_and_column:\n",
    "        print('Number of rows are - ', len(dataset))\n",
    "        print('Number of columns are - ', len(dataset[0]))\n",
    "        \n",
    "print(gplay_header)\n",
    "print('\\n')\n",
    "explore_data(gplay, 0, 3, True)"
   ]
  },
  {
   "cell_type": "markdown",
   "metadata": {},
   "source": [
    "We see that the Google Play data set has 10841 apps and 13 columns. At a quick glance, the columns that might be useful for the purpose of our analysis are 'App', 'Category', 'Reviews', 'Installs', 'Type', 'Price', and 'Genres'.\n",
    "\n",
    "Now let's take a look at the App Store data set."
   ]
  },
  {
   "cell_type": "code",
   "execution_count": 3,
   "metadata": {},
   "outputs": [
    {
     "name": "stdout",
     "output_type": "stream",
     "text": [
      "['id', 'track_name', 'size_bytes', 'currency', 'price', 'rating_count_tot', 'rating_count_ver', 'user_rating', 'user_rating_ver', 'ver', 'cont_rating', 'prime_genre', 'sup_devices.num', 'ipadSc_urls.num', 'lang.num', 'vpp_lic']\n",
      "\n",
      "\n",
      "['284882215', 'Facebook', '389879808', 'USD', '0.0', '2974676', '212', '3.5', '3.5', '95.0', '4+', 'Social Networking', '37', '1', '29', '1']\n",
      "\n",
      "\n",
      "['389801252', 'Instagram', '113954816', 'USD', '0.0', '2161558', '1289', '4.5', '4.0', '10.23', '12+', 'Photo & Video', '37', '0', '29', '1']\n",
      "\n",
      "\n",
      "['529479190', 'Clash of Clans', '116476928', 'USD', '0.0', '2130805', '579', '4.5', '4.5', '9.24.12', '9+', 'Games', '38', '5', '18', '1']\n",
      "\n",
      "\n",
      "Number of rows are -  7197\n",
      "Number of columns are -  16\n"
     ]
    }
   ],
   "source": [
    "print(appstore_header)\n",
    "print('\\n')\n",
    "explore_data(appstore, 0, 3, True)"
   ]
  },
  {
   "cell_type": "markdown",
   "metadata": {},
   "source": [
    "We have 7197 iOS apps in this data set, and the columns that seem interesting are: 'track_name', 'currency', 'price', 'rating_count_tot', 'rating_count_ver', and 'prime_genre'."
   ]
  },
  {
   "cell_type": "markdown",
   "metadata": {},
   "source": [
    "## Cleaning Data"
   ]
  },
  {
   "cell_type": "code",
   "execution_count": 4,
   "metadata": {},
   "outputs": [],
   "source": [
    "for x in appstore:\n",
    "    if x[5] == 'USD':\n",
    "        print(x)"
   ]
  },
  {
   "cell_type": "code",
   "execution_count": 5,
   "metadata": {},
   "outputs": [],
   "source": [
    "del gplay[10472]"
   ]
  },
  {
   "cell_type": "code",
   "execution_count": 6,
   "metadata": {},
   "outputs": [],
   "source": [
    "def delete_row(a_list, term, column):\n",
    "    temp_list = []\n",
    "    for x in a_list:\n",
    "        if x[column] != term:\n",
    "            temp_list.append(x)\n",
    "    return temp_list"
   ]
  },
  {
   "cell_type": "markdown",
   "metadata": {},
   "source": [
    "#### Checking Duplicate Apps"
   ]
  },
  {
   "cell_type": "code",
   "execution_count": 7,
   "metadata": {},
   "outputs": [
    {
     "name": "stdout",
     "output_type": "stream",
     "text": [
      "Number of duplicate apps: 1181\n",
      "\n",
      "\n",
      "Examples of duplicate apps: ['Quick PDF Scanner + OCR FREE', 'Box', 'Google My Business', 'ZOOM Cloud Meetings', 'join.me - Simple Meetings', 'Box', 'Zenefits', 'Google Ads', 'Google My Business', 'Slack', 'FreshBooks Classic', 'Insightly CRM', 'QuickBooks Accounting: Invoicing & Expenses', 'HipChat - Chat Built for Teams', 'Xero Accounting Software']\n"
     ]
    }
   ],
   "source": [
    "duplicate_apps = []\n",
    "unique_apps = []\n",
    "\n",
    "for app in gplay:\n",
    "    name = app[0]\n",
    "    if name in unique_apps:\n",
    "        duplicate_apps.append(name)\n",
    "    else:\n",
    "        unique_apps.append(name)\n",
    "    \n",
    "print('Number of duplicate apps:', len(duplicate_apps))\n",
    "print('\\n')\n",
    "print('Examples of duplicate apps:', duplicate_apps[:15])"
   ]
  },
  {
   "cell_type": "code",
   "execution_count": 8,
   "metadata": {},
   "outputs": [],
   "source": [
    "#Removing Multiple Entries\n",
    "def remove_multiple(a_list, index):\n",
    "   \n",
    "    review_count = {}\n",
    "    for x in a_list:\n",
    "        name = x[0]\n",
    "        if name not in review_count:\n",
    "            review_count[name] = float(x[index])\n",
    "        elif float(x[index]) > review_count[name]:\n",
    "            review_count[name] = float(x[index])\n",
    "    clean_list = []\n",
    "    already_added = []\n",
    "    for x in a_list:\n",
    "        name = x[0]\n",
    "        if (float(x[index]) == review_count[name]) and (name not in already_added):\n",
    "            clean_list.append(x)\n",
    "            already_added.append(name)\n",
    "    \n",
    "    return clean_list\n",
    "\n",
    "\n",
    "            \n",
    "gplay = remove_multiple(gplay, 3)\n",
    "appstore = remove_multiple(appstore, 5)"
   ]
  },
  {
   "cell_type": "markdown",
   "metadata": {},
   "source": [
    "#### Filtering for English only Apps"
   ]
  },
  {
   "cell_type": "markdown",
   "metadata": {},
   "source": [
    "English language's ASCII codes range from 0-127, if the character is out range, then it's most probably another language."
   ]
  },
  {
   "cell_type": "markdown",
   "metadata": {},
   "source": [
    "If we remove all the apps with single character exceeding the range, we might even skip the english apps which have emojis. Therefore, we will remove the apps which have more than 3 characters who are out of range."
   ]
  },
  {
   "cell_type": "code",
   "execution_count": 9,
   "metadata": {},
   "outputs": [
    {
     "name": "stdout",
     "output_type": "stream",
     "text": [
      "9597\n",
      "6155\n"
     ]
    }
   ],
   "source": [
    "def is_english(a_list, index):\n",
    "    temp_list = []\n",
    "    for x in a_list:\n",
    "        name = x[index]\n",
    "        counter = 0\n",
    "        for y in name:\n",
    "            if ord(y) > 127:\n",
    "                counter += 1\n",
    "        if counter < 3:\n",
    "            temp_list.append(x)\n",
    "        counter = 0\n",
    "    return temp_list\n",
    "\n",
    "gplay = is_english(gplay, 0)\n",
    "appstore = is_english(appstore, 1)\n",
    "\n",
    "print(len(gplay))\n",
    "print(len(appstore))"
   ]
  },
  {
   "cell_type": "markdown",
   "metadata": {},
   "source": [
    "#### Isolating Free Apps"
   ]
  },
  {
   "cell_type": "code",
   "execution_count": 10,
   "metadata": {},
   "outputs": [
    {
     "name": "stdout",
     "output_type": "stream",
     "text": [
      "8848\n",
      "3203\n"
     ]
    }
   ],
   "source": [
    "def free_apps(a_list, index):\n",
    "    temp_list = []\n",
    "    for x in a_list:\n",
    "        price = x[index]\n",
    "        if price == '0':\n",
    "            temp_list.append(x)\n",
    "        elif price == '0.0':\n",
    "            temp_list.append(x)\n",
    "    return temp_list    \n",
    "\n",
    "gplay = free_apps(gplay, 7)\n",
    "appstore = free_apps(appstore, 4)\n",
    "\n",
    "print(len(gplay))\n",
    "print(len(appstore))"
   ]
  },
  {
   "cell_type": "markdown",
   "metadata": {},
   "source": [
    "___"
   ]
  },
  {
   "cell_type": "markdown",
   "metadata": {},
   "source": [
    "## Analysing Data"
   ]
  },
  {
   "cell_type": "markdown",
   "metadata": {},
   "source": [
    "As we stated in the introduction, our goal is to determine the types of apps that are likely to draw more customers, as our revenue is strongly affected by the amount of people using our applications.\n",
    "\n",
    "Our validation approach for an product concept is comprised of three measures to reduce costs and overhead:\n",
    "* Create and add a limited edition of the Android app to Google Play\n",
    "* If the app has a strong consumer reaction, we'll further improve it\n",
    "* If the product is successful after six months, we'll create and attach an iOS edition of the app to the App Store\n",
    "\n",
    "Since our ultimate goal is to introduce the app to both Google Play and the App Store, we need to identify good user profiles in both markets. A profile that fits well for both sectors , for example, may be a productivity app that makes use of gamification.\n",
    "\n",
    "Let's continue the analysis by having a sense of what the most popular genres are for any market. For this we would need to build frequency tables in our data sets for a few columns."
   ]
  },
  {
   "cell_type": "markdown",
   "metadata": {},
   "source": [
    "### Finding the most common genre"
   ]
  },
  {
   "cell_type": "code",
   "execution_count": 11,
   "metadata": {},
   "outputs": [],
   "source": [
    "#Making a fucntion which takes in a list and index and returns the percentages of the column.\n",
    "\n",
    "def column_percentage(a_list, index):\n",
    "    column_dict = {}\n",
    "    for x in a_list:\n",
    "        if x[index] in column_dict:\n",
    "            column_dict[x[index]] += 1\n",
    "        else:\n",
    "            column_dict[x[index]] = 1\n",
    "    \n",
    "    #finding total entries\n",
    "    total = 0\n",
    "    for x in column_dict:\n",
    "        total += column_dict[x]\n",
    "    \n",
    "    #Updating dictionary to percentage\n",
    "    for x in column_dict:\n",
    "        column_dict[x] = float((column_dict[x]/total)*100)\n",
    "    \n",
    "    return sort_dict(column_dict)\n",
    "    \n",
    "def sort_dict(a_dict): \n",
    "    table_display = []\n",
    "    for x in a_dict:\n",
    "        key_val = (a_dict[x], x)\n",
    "        table_display.append(key_val)\n",
    "    table_sorted = sorted(table_display, reverse = True)\n",
    "    list_sorted = list(table_sorted)\n",
    "    return list_sorted"
   ]
  },
  {
   "cell_type": "markdown",
   "metadata": {},
   "source": [
    "**Appstore Most Common Genres**\n",
    "\n",
    "Appstore dataset has the column 'prime_genre' and we analysed that below."
   ]
  },
  {
   "cell_type": "code",
   "execution_count": 12,
   "metadata": {},
   "outputs": [
    {
     "name": "stdout",
     "output_type": "stream",
     "text": [
      "(58.25788323446769, 'Games')\n",
      "\n",
      "\n",
      "(7.836403371838902, 'Entertainment')\n",
      "\n",
      "\n",
      "(4.995316890415236, 'Photo & Video')\n",
      "\n",
      "\n",
      "(3.6840462066812365, 'Education')\n",
      "\n",
      "\n",
      "(3.3093974399000934, 'Social Networking')\n",
      "\n",
      "\n"
     ]
    }
   ],
   "source": [
    "genre_percent_appstore = column_percentage(appstore, -5)\n",
    "explore_data(genre_percent_appstore, 0, 5)"
   ]
  },
  {
   "cell_type": "markdown",
   "metadata": {},
   "source": [
    "We can see that more than a half (58.16 per cent) of the free English applications are games. Entertainment applications are approximately 8%, led by photo and video apps, close to 5%. Just 3.66% of the applications are built for education, accompanied by social networking apps that make up 3.29% of the apps in our data set.\n",
    "\n",
    "The general impression is that the App Store (at least the section that includes free English content) is overrun by applications built for fun (games, entertainment, photo and video, social networking, sports , music, etc.) whereas practical applications (education, shopping, services, efficiency, lifestyle, etc.) are more uncommon. Although the fact that fun applications are the most popular still doesn't mean that they will have the highest amount of users — the demand may not be the same as the supply."
   ]
  },
  {
   "cell_type": "markdown",
   "metadata": {},
   "source": [
    "**Google Play Store Most Common Genres**\n",
    "\n",
    "Google Play dataset has two similar columns, \"Category\" and \"Genres\". We will analyse both the datasets below."
   ]
  },
  {
   "cell_type": "code",
   "execution_count": 13,
   "metadata": {},
   "outputs": [
    {
     "name": "stdout",
     "output_type": "stream",
     "text": [
      "(18.942133815551536, 'FAMILY')\n",
      "\n",
      "\n",
      "(9.697106690777577, 'GAME')\n",
      "\n",
      "\n",
      "(8.453887884267631, 'TOOLS')\n",
      "\n",
      "\n",
      "(4.599909584086799, 'BUSINESS')\n",
      "\n",
      "\n",
      "(3.899186256781193, 'PRODUCTIVITY')\n",
      "\n",
      "\n"
     ]
    }
   ],
   "source": [
    "# Analysing the column \"Category\"\n",
    "\n",
    "genre_percent_gplay = column_percentage(gplay, 1)\n",
    "explore_data(genre_percent_gplay, 0, 5)"
   ]
  },
  {
   "cell_type": "code",
   "execution_count": 14,
   "metadata": {},
   "outputs": [
    {
     "name": "stdout",
     "output_type": "stream",
     "text": [
      "(8.44258589511754, 'Tools')\n",
      "\n",
      "\n",
      "(6.080470162748644, 'Entertainment')\n",
      "\n",
      "\n",
      "(5.357142857142857, 'Education')\n",
      "\n",
      "\n",
      "(4.599909584086799, 'Business')\n",
      "\n",
      "\n",
      "(3.899186256781193, 'Productivity')\n",
      "\n",
      "\n"
     ]
    }
   ],
   "source": [
    "# Analysing the column \"Genres\"\n",
    "\n",
    "genre_percent_gplay = column_percentage(gplay, 9)\n",
    "explore_data(genre_percent_gplay, 0, 5)"
   ]
  },
  {
   "cell_type": "markdown",
   "metadata": {},
   "source": [
    "On Google Play, the environment appears dramatically different: there aren't too many applications built for entertainment, and a large number of applications seem to be developed for practical purposes (family, resources, company, lifestyle, efficiency, etc.). However, if we further examine this, we will see that the family group (which accounts for approximately 19 percent of the apps) mainly includes games for children.\n",
    "\n",
    "Even so, it seems that realistic applications are best portrayed on Google Play relative to the App Store. The frequency table we see for the Genres column also supports this picture\n",
    "\n",
    "The distinction between the columns of the Genres and the columns of the Category is not perfectly clear but one aspect we should note is that the column of Genres is far more granular (it has more categories). At the moment we 're just aiming at the larger picture and we're only going to deal by moving on in the Category column.\n",
    "\n",
    "Up until this point , we found that applications made for fun rule the App Store, while Google Play presents a more diverse ecosystem of both realistic and non-fun devices. Now we would like to get an understanding about what kind of apps most users have."
   ]
  },
  {
   "cell_type": "markdown",
   "metadata": {},
   "source": [
    "---"
   ]
  },
  {
   "cell_type": "markdown",
   "metadata": {},
   "source": [
    "### Finding the most popular genre on Appstore"
   ]
  },
  {
   "cell_type": "markdown",
   "metadata": {},
   "source": [
    "One way to figure out which genres are most popular (have the most users) is by measuring the total amount of installs for each genre of apps. For the Google Play data set, we can find this information in the Installs column,  but this detail is lacking for the App Store data set.  As a workaround, we'll take the total number of user ratings as a proxy, which we can find in the rating_count_tot app."
   ]
  },
  {
   "cell_type": "markdown",
   "metadata": {},
   "source": [
    "#### Finding the average number of user ratings per app genre on the App Store"
   ]
  },
  {
   "cell_type": "markdown",
   "metadata": {},
   "source": [
    "To do that, we'll need to:\n",
    "* Isolate the apps of each genre\n",
    "* Sum up the user ratings for the apps of that genre\n",
    "* Divide the sum by the number of apps belonging to that genre"
   ]
  },
  {
   "cell_type": "code",
   "execution_count": 15,
   "metadata": {},
   "outputs": [],
   "source": [
    "#Function to calculate the above\n",
    "\n",
    "def avg_by_ratings(a_list, genre_index, rating_count_index):\n",
    "    column_dict = {}\n",
    "    for x in a_list:\n",
    "        if x[genre_index] in column_dict:\n",
    "            column_dict[x[genre_index]] += 1\n",
    "        else:\n",
    "            column_dict[x[genre_index]] = 1\n",
    "    \n",
    "    ratings_sum_dict = {}\n",
    "    for x in a_list:\n",
    "        if x[genre_index] in ratings_sum_dict:\n",
    "            ratings_sum_dict[x[genre_index]] += float(x[rating_count_index])\n",
    "        else:\n",
    "            ratings_sum_dict[x[genre_index]] = float(x[rating_count_index])\n",
    "    \n",
    "    #finding total entries\n",
    "    total = 0\n",
    "    for x in column_dict:\n",
    "        total += column_dict[x]        \n",
    "    \n",
    "    percentage_dict = {}\n",
    "    for x in column_dict:\n",
    "        percentage_dict[x] = (ratings_sum_dict[x]/column_dict[x])*100\n",
    "    \n",
    "    return sort_dict(percentage_dict)\n",
    "    "
   ]
  },
  {
   "cell_type": "code",
   "execution_count": 16,
   "metadata": {},
   "outputs": [
    {
     "name": "stdout",
     "output_type": "stream",
     "text": [
      "(8609033.333333332, 'Navigation')\n",
      "\n",
      "\n",
      "(7935047.05882353, 'Reference')\n",
      "\n",
      "\n",
      "(7154834.905660378, 'Social Networking')\n",
      "\n",
      "\n",
      "(5732653.03030303, 'Music')\n",
      "\n",
      "\n",
      "(5227989.285714285, 'Weather')\n",
      "\n",
      "\n"
     ]
    }
   ],
   "source": [
    "popular_appstore = avg_by_ratings(appstore, -5, 5)\n",
    "explore_data(popular_appstore, 0, 5)"
   ]
  },
  {
   "cell_type": "markdown",
   "metadata": {},
   "source": [
    "Navigation applications have the largest amount of user ratings on average, although this statistic is highly skewed by Waze and Google Maps, who have almost half a million user reviews combined"
   ]
  },
  {
   "cell_type": "code",
   "execution_count": 17,
   "metadata": {},
   "outputs": [
    {
     "name": "stdout",
     "output_type": "stream",
     "text": [
      "Waze - GPS Navigation, Maps & Real-time Traffic : 345046\n",
      "Google Maps - Navigation & Transit : 154911\n",
      "Geocaching® : 12811\n",
      "CoPilot GPS – Car Navigation & Offline Maps : 3582\n",
      "ImmobilienScout24: Real Estate Search in Germany : 187\n",
      "Railway Route Search : 5\n"
     ]
    }
   ],
   "source": [
    "for x in appstore:\n",
    "    if x[-5] == \"Navigation\":\n",
    "        print(x[1], ':', x[5])"
   ]
  },
  {
   "cell_type": "markdown",
   "metadata": {},
   "source": [
    "The same trend extends to social networking apps, where the total amount is highly skewed by a few giants such as Twitter , Instagram, Skype etc. The same happens to music applications, where the total figure is highly skewed by a few major players like Itunes , Spotify and Shazam."
   ]
  },
  {
   "cell_type": "markdown",
   "metadata": {},
   "source": [
    "Reference applications have an overall consumer ranking of 74,942, but in reality it is the Bible and Dictionary.com that have inflated the total rating:"
   ]
  },
  {
   "cell_type": "code",
   "execution_count": 18,
   "metadata": {},
   "outputs": [
    {
     "name": "stdout",
     "output_type": "stream",
     "text": [
      "Bible : 985920\n",
      "Dictionary.com Dictionary & Thesaurus : 200047\n",
      "Dictionary.com Dictionary & Thesaurus for iPad : 54175\n",
      "Google Translate : 26786\n",
      "Muslim Pro: Ramadan 2017 Prayer Times, Azan, Quran : 18418\n",
      "New Furniture Mods - Pocket Wiki & Game Tools for Minecraft PC Edition : 17588\n",
      "Merriam-Webster Dictionary : 16849\n",
      "Night Sky : 12122\n",
      "City Maps for Minecraft PE - The Best Maps for Minecraft Pocket Edition (MCPE) : 8535\n",
      "LUCKY BLOCK MOD ™ for Minecraft PC Edition - The Best Pocket Wiki & Mods Installer Tools : 4693\n",
      "GUNS MODS for Minecraft PC Edition - Mods Tools : 1497\n",
      "Guides for Pokémon GO - Pokemon GO News and Cheats : 826\n",
      "WWDC : 762\n",
      "Horror Maps for Minecraft PE - Download The Scariest Maps for Minecraft Pocket Edition (MCPE) Free : 718\n",
      "VPN Express : 14\n",
      "Real Bike Traffic Rider Virtual Reality Glasses : 8\n",
      "Jishokun-Japanese English Dictionary & Translator : 0\n"
     ]
    }
   ],
   "source": [
    "for x in appstore:\n",
    "    if x[-5] == \"Reference\":\n",
    "        print(x[1], ':', x[5])"
   ]
  },
  {
   "cell_type": "markdown",
   "metadata": {},
   "source": [
    "The niche seems to be showing some promise, however;  one thing we can do is take another famous book and convert it into an app where besides the raw book edition, we should incorporate various apps. These may include regular book quotations, an audible recording of the book, book quizzes etc. We might even integrate a dictionary into the app, meaning people don't have to quit our app to look up terms in an unrelated site.\n",
    "\n",
    "The concept seems to suit well with the reality that for-fun applications rule the App Store. It means that the competition might be a little crowded with for-fun apps, suggesting that an useful app would have the potential to stick out from the large amount of applications on the App Store.\n",
    "\n",
    "Certain categories that tend to be common include weather, book, food and drink, or finance. The genre of the book seems to correlate a bit with the theme of the app that we mentioned above, but the other genres do not seem that important to us:\n",
    "* Weather applications — users usually don't spend that much time in the app, so there's no chance of profiting from in-app adds. It could also require us to link our apps to non-free APIs to get accurate live weather data.\n",
    "* Food and drink - Starbucks, Dunkin' Donuts, McDonald's, etc. are examples here. So creating a famous food and drink app needs true cooking and distribution operation, which is outside our company's reach.\n",
    "* Apps for finance — such features provide insurance, bill paying, money transfer, etc. Creating a finance app calls for awareness of the subject and we don't want to employ a finance specialist just to create an app.\n",
    "\n",
    "Now let's look a little more at the demand for Google Play."
   ]
  },
  {
   "cell_type": "markdown",
   "metadata": {},
   "source": [
    "### Finding the most popular genre on Google Play\n",
    "\n",
    "We already have details on the amount of downloads for the Google Play market and we will be able to get a better view of the success of the genre. Nonetheless, the number of installations does not seem specific enough — we can see that the bulk of numbers are open-ended (100 +, 1,000 +, 5,000 +, etc.)"
   ]
  },
  {
   "cell_type": "code",
   "execution_count": 19,
   "metadata": {},
   "outputs": [
    {
     "name": "stdout",
     "output_type": "stream",
     "text": [
      "(1394, '1,000,000+')\n",
      "\n",
      "\n",
      "(1021, '100,000+')\n",
      "\n",
      "\n",
      "(935, '10,000,000+')\n",
      "\n",
      "\n",
      "(902, '10,000+')\n",
      "\n",
      "\n",
      "(743, '1,000+')\n",
      "\n",
      "\n"
     ]
    }
   ],
   "source": [
    "def find_unique(a_list, index):\n",
    "    installs_dict = {}\n",
    "    for x in a_list:\n",
    "        if x[index] in installs_dict:\n",
    "            installs_dict[x[index]] += 1\n",
    "        else:\n",
    "            installs_dict[x[index]] = 1\n",
    "            \n",
    "    return sort_dict(installs_dict)\n",
    "\n",
    "gplay_installs = find_unique(gplay, 5)\n",
    "explore_data(gplay_installs, 0, 5)"
   ]
  },
  {
   "cell_type": "markdown",
   "metadata": {},
   "source": [
    "The issue with the data is that it isn't precise. For example, we don't know whether an app that has 100,000 + installs has 100,000, 200,000, or 350,000 installs. Nonetheless, for our purposes, we don't require really accurate numbers — we only want to get an understanding of which device categories are drawing the most consumers, so we don't need absolute accuracy in terms of number of consumers.\n",
    "\n",
    "We're going to leave the numbers as they are, which means that we'll consider that an app with 100,000+ installs has 100,000 installs, and an app with 1,000,000+ installs has 1,000,000 installs, and so on.\n",
    "\n",
    "\n",
    "\n",
    "To perform computations, however, we'll need to convert each install number to float — this means that we need to remove the commas and the plus characters, otherwise the conversion will fail and raise an error. We'll do this directly in the loop below, where we also compute the average number of installs for each genre (category)."
   ]
  },
  {
   "cell_type": "code",
   "execution_count": 21,
   "metadata": {},
   "outputs": [
    {
     "name": "stdout",
     "output_type": "stream",
     "text": [
      "(38590581.08741259, 'COMMUNICATION')\n",
      "\n",
      "\n",
      "(24727872.452830188, 'VIDEO_PLAYERS')\n",
      "\n",
      "\n",
      "(23253652.127118643, 'SOCIAL')\n",
      "\n",
      "\n",
      "(17840110.40229885, 'PHOTOGRAPHY')\n",
      "\n",
      "\n",
      "(16787331.344927534, 'PRODUCTIVITY')\n",
      "\n",
      "\n",
      "(15544014.51048951, 'GAME')\n",
      "\n",
      "\n",
      "(13984077.710144928, 'TRAVEL_AND_LOCAL')\n",
      "\n",
      "\n",
      "(11640705.88235294, 'ENTERTAINMENT')\n",
      "\n",
      "\n",
      "(10830251.970588235, 'TOOLS')\n",
      "\n",
      "\n",
      "(9549178.467741935, 'NEWS_AND_MAGAZINES')\n",
      "\n",
      "\n"
     ]
    }
   ],
   "source": [
    "# Function to remove commas and plus, and find avg\n",
    "def make_number(a_list, index, index_c):\n",
    "    temp1_list = []\n",
    "    for x in a_list:\n",
    "        temp1_list.append(x)\n",
    "    temp_list = []\n",
    "    for x in temp1_list:\n",
    "        installs = str(x[index])\n",
    "        installs = installs.replace(',','')\n",
    "        installs = installs.replace('+','')\n",
    "        installs = installs.replace(' ','')\n",
    "        x[index] = float(installs)\n",
    "        temp_list.append(x)\n",
    "    \n",
    "    freq_installs = {}\n",
    "    genre_count = {}\n",
    "    total_installs = 0\n",
    "    for x in temp_list:\n",
    "        if x[index_c] in freq_installs:\n",
    "            freq_installs[x[index_c]] += x[index]\n",
    "            genre_count[x[index_c]] += 1\n",
    "        else:\n",
    "            freq_installs[x[index_c]] = x[index]\n",
    "            genre_count[x[index_c]] = 1\n",
    "        total_installs += x[index]\n",
    "\n",
    "    avg_installs = {}\n",
    "    for x in freq_installs:\n",
    "        avg_installs[x] = freq_installs[x] / genre_count[x]\n",
    "    \n",
    "    return sort_dict(avg_installs)\n",
    "\n",
    "gplay_avg = make_number(gplay, 5, 1)\n",
    "explore_data(gplay_avg, 0, 10)"
   ]
  },
  {
   "cell_type": "markdown",
   "metadata": {},
   "source": [
    "Communication applications have the most installs, on average: 38,590,581. This figure is severely skewed by a few devices with over one billion installs (WhatsApp, Facebook Messenger, Skype, Google Chrome, Gmail, and Hangouts), and a few others with more than 100 million and 500 million installs:"
   ]
  },
  {
   "cell_type": "code",
   "execution_count": 32,
   "metadata": {
    "scrolled": true
   },
   "outputs": [
    {
     "name": "stdout",
     "output_type": "stream",
     "text": [
      "WhatsApp Messenger : 1000000000.0 +\n",
      "imo beta free calls and text : 100000000.0 +\n",
      "Android Messages : 100000000.0 +\n",
      "Google Duo - High Quality Video Calls : 500000000.0 +\n",
      "Messenger – Text and Video Chat for Free : 1000000000.0 +\n",
      "imo free video calls and chat : 500000000.0 +\n",
      "Skype - free IM & video calls : 1000000000.0 +\n",
      "Who : 100000000.0 +\n",
      "GO SMS Pro - Messenger, Free Themes, Emoji : 100000000.0 +\n",
      "LINE: Free Calls & Messages : 500000000.0 +\n",
      "Google Chrome: Fast & Secure : 1000000000.0 +\n",
      "Firefox Browser fast & private : 100000000.0 +\n",
      "UC Browser - Fast Download Private & Secure : 500000000.0 +\n",
      "Gmail : 1000000000.0 +\n",
      "Hangouts : 1000000000.0 +\n",
      "Messenger Lite: Free Calls & Messages : 100000000.0 +\n",
      "Kik : 100000000.0 +\n",
      "KakaoTalk: Free Calls & Text : 100000000.0 +\n",
      "Opera Mini - fast web browser : 100000000.0 +\n",
      "Opera Browser: Fast and Secure : 100000000.0 +\n",
      "Telegram : 100000000.0 +\n",
      "Truecaller: Caller ID, SMS spam blocking & Dialer : 100000000.0 +\n",
      "UC Browser Mini -Tiny Fast Private & Secure : 100000000.0 +\n",
      "Viber Messenger : 500000000.0 +\n",
      "WeChat : 100000000.0 +\n",
      "Yahoo Mail – Stay Organized : 100000000.0 +\n",
      "BBM - Free Calls & Messages : 100000000.0 +\n"
     ]
    }
   ],
   "source": [
    "for x in gplay:\n",
    "    if x[1] == 'COMMUNICATION' and (x[5] == 1000000000 or x[5] == 500000000 or x[5] == 100000000):\n",
    "        print(x[0], ':', x[5],'+')"
   ]
  },
  {
   "cell_type": "markdown",
   "metadata": {},
   "source": [
    "For the category of video players we see the same trend which is the runner-up with 24,727,872 installs. Apps such as the Youtube , Google Play Movies & TV, or MX Player control the business. For social applications (where we have giants like Twitter, Snapchat, Google+, etc.), photography apps (Google Images and other common picture editors), or productivity apps (Microsoft Word, Dropbox, Google Calendar, Evernote, etc.), the trend is replicated. \n",
    "\n",
    "The big problem is again that these types of apps may seem more common than they actually are. In fact, these niches tend to be occupied by a few giants that are impossible to compete with.\n",
    "\n",
    "The game genre seems fairly common, but we've pointed out previously that this section of the market seems a little crowded, so if possible we 'd like to come up with a specific app suggestion. \n",
    "\n",
    "The books and genre of comparison also seems relatively common, with an estimated number of 8,767,811 installs. Exploring this in more detail is fascinating, because we find this genre has some potential to perform well on the App Store, and our intention is to suggest an device genre that demonstrates potential to be competitive on both the App Store and Google Play as well.\n",
    "\n",
    "Let's look at some of the genre's applications and their amount of installations:"
   ]
  },
  {
   "cell_type": "code",
   "execution_count": 27,
   "metadata": {},
   "outputs": [
    {
     "name": "stdout",
     "output_type": "stream",
     "text": [
      "E-Book Read - Read Book for free : 50000.0\n",
      "Download free book with green book : 100000.0\n",
      "Wikipedia : 10000000.0\n",
      "Cool Reader : 10000000.0\n",
      "Free Panda Radio Music : 100000.0\n",
      "Book store : 1000000.0\n",
      "FBReader: Favorite Book Reader : 10000000.0\n",
      "English Grammar Complete Handbook : 500000.0\n",
      "Free Books - Spirit Fanfiction and Stories : 1000000.0\n",
      "Google Play Books : 1000000000.0\n",
      "AlReader -any text book reader : 5000000.0\n",
      "Offline English Dictionary : 100000.0\n",
      "Offline: English to Tagalog Dictionary : 500000.0\n",
      "FamilySearch Tree : 1000000.0\n",
      "Cloud of Books : 1000000.0\n",
      "Recipes of Prophetic Medicine for free : 500000.0\n",
      "ReadEra – free ebook reader : 1000000.0\n",
      "Anonymous caller detection : 10000.0\n",
      "Ebook Reader : 5000000.0\n",
      "Litnet - E-books : 100000.0\n",
      "Read books online : 5000000.0\n",
      "English to Urdu Dictionary : 500000.0\n",
      "eBoox: book reader fb2 epub zip : 1000000.0\n",
      "English Persian Dictionary : 500000.0\n",
      "Flybook : 500000.0\n",
      "All Maths Formulas : 1000000.0\n",
      "Ancestry : 5000000.0\n",
      "HTC Help : 10000000.0\n",
      "English translation from Bengali : 100000.0\n",
      "Pdf Book Download - Read Pdf Book : 100000.0\n",
      "Free Book Reader : 100000.0\n",
      "eBoox new: Reader for fb2 epub zip books : 50000.0\n",
      "Only 30 days in English, the guideline is guaranteed : 500000.0\n",
      "Moon+ Reader : 10000000.0\n",
      "SH-02J Owner's Manual (Android 8.0) : 50000.0\n",
      "English-Myanmar Dictionary : 1000000.0\n",
      "Golden Dictionary (EN-AR) : 1000000.0\n",
      "All Language Translator Free : 1000000.0\n",
      "Azpen eReader : 500000.0\n",
      "URBANO V 02 instruction manual : 100000.0\n",
      "Bible : 100000000.0\n",
      "C Programs and Reference : 50000.0\n",
      "C Offline Tutorial : 1000.0\n",
      "C Programs Handbook : 50000.0\n",
      "Amazon Kindle : 100000000.0\n",
      "Aab e Hayat Full Novel : 100000.0\n",
      "Aldiko Book Reader : 10000000.0\n",
      "Google I/O 2018 : 500000.0\n",
      "R Language Reference Guide : 10000.0\n",
      "Learn R Programming Full : 5000.0\n",
      "R Programing Offline Tutorial : 1000.0\n",
      "Guide for R Programming : 5.0\n",
      "Learn R Programming : 10.0\n",
      "R Quick Reference Big Data : 1000.0\n",
      "V Made : 100000.0\n",
      "Wattpad 📖 Free Books : 100000000.0\n",
      "Dictionary - WordWeb : 5000000.0\n",
      "Guide (for X-MEN) : 100000.0\n",
      "AC Air condition Troubleshoot,Repair,Maintenance : 5000.0\n",
      "AE Bulletins : 1000.0\n",
      "Ae Allah na Dai (Rasa) : 10000.0\n",
      "50000 Free eBooks & Free AudioBooks : 5000000.0\n",
      "Ag PhD Field Guide : 10000.0\n",
      "Ag PhD Deficiencies : 10000.0\n",
      "Ag PhD Planting Population Calculator : 1000.0\n",
      "Ag PhD Soybean Diseases : 1000.0\n",
      "Fertilizer Removal By Crop : 50000.0\n",
      "A-J Media Vault : 50.0\n",
      "Al-Quran (Free) : 10000000.0\n",
      "Al Quran (Tafsir & by Word) : 500000.0\n",
      "Al Quran Indonesia : 10000000.0\n",
      "Al'Quran Bahasa Indonesia : 10000000.0\n",
      "Al Quran Al karim : 1000000.0\n",
      "Al-Muhaffiz : 50000.0\n",
      "Al Quran : EAlim - Translations & MP3 Offline : 5000000.0\n",
      "Al-Quran 30 Juz free copies : 500000.0\n",
      "Koran Read &MP3 30 Juz Offline : 1000000.0\n",
      "Hafizi Quran 15 lines per page : 1000000.0\n",
      "Quran for Android : 10000000.0\n",
      "Surah Al-Waqiah : 100000.0\n",
      "Hisnul Al Muslim - Hisn Invocations & Adhkaar : 100000.0\n",
      "Satellite AR : 1000000.0\n",
      "Audiobooks from Audible : 100000000.0\n",
      "Kinot & Eichah for Tisha B'Av : 10000.0\n",
      "AW Tozer Devotionals - Daily : 5000.0\n",
      "Tozer Devotional -Series 1 : 1000.0\n",
      "The Pursuit of God : 1000.0\n",
      "AY Sing : 5000.0\n",
      "Ay Hasnain k Nana Milad Naat : 10000.0\n",
      "Ay Mohabbat Teri Khatir Novel : 10000.0\n",
      "Arizona Statutes, ARS (AZ Law) : 1000.0\n",
      "Oxford A-Z of English Usage : 1000000.0\n",
      "BD Fishpedia : 1000.0\n",
      "BD All Sim Offer : 10000.0\n",
      "Youboox - Livres, BD et magazines : 500000.0\n",
      "B&H Kids AR : 10000.0\n",
      "B y H Niños ES : 5000.0\n",
      "Dictionary.com: Find Definitions for English Words : 10000000.0\n",
      "English Dictionary - Offline : 10000000.0\n",
      "Bible KJV : 5000000.0\n",
      "Borneo Bible, BM Bible : 10000.0\n",
      "MOD Black for BM : 100.0\n",
      "BM Box : 1000.0\n",
      "Anime Mod for BM : 100.0\n",
      "NOOK: Read eBooks & Magazines : 10000000.0\n",
      "NOOK Audiobooks : 500000.0\n",
      "NOOK App for NOOK Devices : 500000.0\n",
      "Browsery by Barnes & Noble : 5000.0\n",
      "bp e-store : 1000.0\n",
      "Brilliant Quotes: Life, Love, Family & Motivation : 1000000.0\n",
      "BR Ambedkar Biography & Quotes : 10000.0\n",
      "BU Alsace : 100.0\n",
      "Catholic La Bu Zo Kam : 500.0\n",
      "Khrifa Hla Bu (Solfa) : 10.0\n",
      "Kristian Hla Bu : 10000.0\n",
      "SA HLA BU : 1000.0\n",
      "Learn SAP BW : 500.0\n",
      "Learn SAP BW on HANA : 500.0\n",
      "CA Laws 2018 (California Laws and Codes) : 5000.0\n",
      "Bootable Methods(USB-CD-DVD) : 10000.0\n",
      "cloudLibrary : 100000.0\n",
      "SDA Collegiate Quarterly : 500.0\n",
      "Sabbath School : 100000.0\n",
      "Cypress College Library : 100.0\n",
      "Stats Royale for Clash Royale : 1000000.0\n",
      "GATE 21 years CS Papers(2011-2018 Solved) : 50.0\n",
      "Learn CT Scan Of Head : 5000.0\n",
      "Easy Cv maker 2018 : 10000.0\n",
      "How to Write CV : 100000.0\n",
      "CW Nuclear : 1000.0\n",
      "CY Spray nozzle : 10.0\n",
      "BibleRead En Cy Zh Yue : 5.0\n",
      "CZ-Help : 5.0\n",
      "Guide for DB Xenoverse : 10000.0\n",
      "Guide for DB Xenoverse 2 : 10000.0\n",
      "Guide for IMS DB : 10.0\n",
      "DC HSEMA : 5000.0\n",
      "DC Public Library : 1000.0\n",
      "Painting Lulu DC Super Friends : 1000.0\n",
      "Dictionary : 10000000.0\n",
      "Fix Error Google Playstore : 1000.0\n",
      "D. H. Lawrence Poems FREE : 1000.0\n",
      "Bilingual Dictionary Audio App : 5000.0\n",
      "DM Screen : 10000.0\n",
      "wikiHow: how to do anything : 1000000.0\n",
      "Dr. Doug's Tips : 1000.0\n",
      "Bible du Semeur-BDS (French) : 50000.0\n",
      "La citadelle du musulman : 50000.0\n",
      "DV 2019 Entry Guide : 10000.0\n",
      "DV 2019 - EDV Photo & Form : 50000.0\n",
      "DV 2018 Winners Guide : 1000.0\n",
      "EB Annual Meetings : 1000.0\n",
      "EC - AP & Telangana : 5000.0\n",
      "TN Patta Citta & EC : 10000.0\n",
      "AP Stamps and Registration : 10000.0\n",
      "CompactiMa EC pH Calibration : 100.0\n",
      "EGW Writings 2 : 100000.0\n",
      "EGW Writings : 1000000.0\n",
      "Bible with EGW Comments : 100000.0\n",
      "My Little Pony AR Guide : 1000000.0\n",
      "SDA Sabbath School Quarterly : 500000.0\n",
      "Duaa Ek Ibaadat : 5000.0\n",
      "Spanish English Translator : 10000000.0\n",
      "Dictionary - Merriam-Webster : 10000000.0\n",
      "JW Library : 10000000.0\n",
      "Oxford Dictionary of English : Free : 10000000.0\n",
      "English Hindi Dictionary : 10000000.0\n",
      "English to Hindi Dictionary : 5000000.0\n",
      "EP Research Service : 1000.0\n",
      "Hymnes et Louanges : 100000.0\n",
      "EU Charter : 1000.0\n",
      "EU Data Protection : 1000.0\n",
      "EU IP Codes : 100.0\n",
      "EW PDF : 5.0\n",
      "BakaReader EX : 100000.0\n",
      "EZ Quran : 50000.0\n",
      "FA Part 1 & 2 Past Papers Solved Free – Offline : 5000.0\n",
      "La Fe de Jesus : 1000.0\n",
      "La Fe de Jesús : 500.0\n",
      "Le Fe de Jesus : 500.0\n",
      "Florida - Pocket Brainbook : 1000.0\n",
      "Florida Statutes (FL Code) : 1000.0\n",
      "English To Shona Dictionary : 10000.0\n",
      "Greek Bible FP (Audio) : 1000.0\n",
      "Golden Dictionary (FR-AR) : 500000.0\n",
      "Fanfic-FR : 5000.0\n",
      "Bulgarian French Dictionary Fr : 10000.0\n",
      "Chemin (fr) : 1000.0\n",
      "The SCP Foundation DB fr nn5n : 1000.0\n"
     ]
    }
   ],
   "source": [
    "for x in gplay:\n",
    "    if x[1] == 'BOOKS_AND_REFERENCE':\n",
    "        print(x[0], ':', x[5])"
   ]
  },
  {
   "cell_type": "markdown",
   "metadata": {},
   "source": [
    "The book and reference category covers a range of applications: ebook editing and reading tools, different libraries, dictionaries, computer or language tutorials, etc. There also appears to be a limited range of extremely popular apps that were skewing the average:"
   ]
  },
  {
   "cell_type": "code",
   "execution_count": 31,
   "metadata": {},
   "outputs": [
    {
     "name": "stdout",
     "output_type": "stream",
     "text": [
      "Wikipedia : 10000000.0 +\n",
      "Cool Reader : 10000000.0 +\n",
      "Book store : 1000000.0 +\n",
      "FBReader: Favorite Book Reader : 10000000.0 +\n",
      "Free Books - Spirit Fanfiction and Stories : 1000000.0 +\n",
      "AlReader -any text book reader : 5000000.0 +\n",
      "FamilySearch Tree : 1000000.0 +\n",
      "Cloud of Books : 1000000.0 +\n",
      "ReadEra – free ebook reader : 1000000.0 +\n",
      "Ebook Reader : 5000000.0 +\n",
      "Read books online : 5000000.0 +\n",
      "eBoox: book reader fb2 epub zip : 1000000.0 +\n",
      "All Maths Formulas : 1000000.0 +\n",
      "Ancestry : 5000000.0 +\n",
      "HTC Help : 10000000.0 +\n",
      "Moon+ Reader : 10000000.0 +\n",
      "English-Myanmar Dictionary : 1000000.0 +\n",
      "Golden Dictionary (EN-AR) : 1000000.0 +\n",
      "All Language Translator Free : 1000000.0 +\n",
      "Aldiko Book Reader : 10000000.0 +\n",
      "Dictionary - WordWeb : 5000000.0 +\n",
      "50000 Free eBooks & Free AudioBooks : 5000000.0 +\n",
      "Al-Quran (Free) : 10000000.0 +\n",
      "Al Quran Indonesia : 10000000.0 +\n",
      "Al'Quran Bahasa Indonesia : 10000000.0 +\n",
      "Al Quran Al karim : 1000000.0 +\n",
      "Al Quran : EAlim - Translations & MP3 Offline : 5000000.0 +\n",
      "Koran Read &MP3 30 Juz Offline : 1000000.0 +\n",
      "Hafizi Quran 15 lines per page : 1000000.0 +\n",
      "Quran for Android : 10000000.0 +\n",
      "Satellite AR : 1000000.0 +\n",
      "Oxford A-Z of English Usage : 1000000.0 +\n",
      "Dictionary.com: Find Definitions for English Words : 10000000.0 +\n",
      "English Dictionary - Offline : 10000000.0 +\n",
      "Bible KJV : 5000000.0 +\n",
      "NOOK: Read eBooks & Magazines : 10000000.0 +\n",
      "Brilliant Quotes: Life, Love, Family & Motivation : 1000000.0 +\n",
      "Stats Royale for Clash Royale : 1000000.0 +\n",
      "Dictionary : 10000000.0 +\n",
      "wikiHow: how to do anything : 1000000.0 +\n",
      "EGW Writings : 1000000.0 +\n",
      "My Little Pony AR Guide : 1000000.0 +\n",
      "Spanish English Translator : 10000000.0 +\n",
      "Dictionary - Merriam-Webster : 10000000.0 +\n",
      "JW Library : 10000000.0 +\n",
      "Oxford Dictionary of English : Free : 10000000.0 +\n",
      "English Hindi Dictionary : 10000000.0 +\n",
      "English to Hindi Dictionary : 5000000.0 +\n"
     ]
    }
   ],
   "source": [
    "for x in gplay:\n",
    "    if x[1] == 'BOOKS_AND_REFERENCE' and (x[5] == 1000000\n",
    "                                            or x[5] == 5000000\n",
    "                                            or x[5] == 10000000\n",
    "                                            or x[5] == 50000000):\n",
    "        print(x[0], ':', x[5],'+')"
   ]
  },
  {
   "cell_type": "markdown",
   "metadata": {},
   "source": [
    "This market appears to be filled by ebook scanning and reading applications, as well as numerous libraries and dictionaries, and creating related apps definitely isn't a smart idea because there would be some serious rivalry. \n",
    "\n",
    "We also note that there are quite a few apps developed around the Quran book and indicate that it could be lucrative to develop an app around a common book. This seems that having a famous book (maybe a more recent novel) and transforming it into an app might be beneficial for both the industries of Google Play and the App Store."
   ]
  },
  {
   "cell_type": "markdown",
   "metadata": {},
   "source": [
    "It seems like the market is still full of libraries, though, and we ought to incorporate any extra features apart from the book's original edition. These may include frequent quotations from the novel, an audible edition of the novel, book quizzes, a website where people will chat about the book etc."
   ]
  },
  {
   "cell_type": "markdown",
   "metadata": {},
   "source": [
    "## Conclusions"
   ]
  },
  {
   "cell_type": "markdown",
   "metadata": {},
   "source": [
    "In this project , we analyzed data on smartphone applications from the App Store and Google Play with the goal of suggesting an app profile that could be competitive for both markets. \n",
    "\n",
    "We decided that it would be beneficial for both the Google Play and the App Store markets to take a famous book (perhaps a more recent novel) and convert it into an app. The markets are now full of libraries and in addition to the raw edition of the novel, we need to introduce certain unique features. These may include frequent quotations from the novel, an audible edition of the novel, book quizzes, a website where people will chat about the book etc."
   ]
  },
  {
   "cell_type": "code",
   "execution_count": null,
   "metadata": {},
   "outputs": [],
   "source": []
  }
 ],
 "metadata": {
  "kernelspec": {
   "display_name": "Python 3",
   "language": "python",
   "name": "python3"
  },
  "language_info": {
   "codemirror_mode": {
    "name": "ipython",
    "version": 3
   },
   "file_extension": ".py",
   "mimetype": "text/x-python",
   "name": "python",
   "nbconvert_exporter": "python",
   "pygments_lexer": "ipython3",
   "version": "3.7.6"
  }
 },
 "nbformat": 4,
 "nbformat_minor": 4
}
